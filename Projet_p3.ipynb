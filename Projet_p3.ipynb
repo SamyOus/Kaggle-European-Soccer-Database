{
 "cells": [
  {
   "cell_type": "markdown",
   "metadata": {},
   "source": [
    "# 3I026 - Intelligence artificielle & Data science\n",
    "\n",
    "# Projet"
   ]
  },
  {
   "cell_type": "markdown",
   "metadata": {},
   "source": [
    "## Données\n",
    "\n",
    "Vous devez travailler sur les données du projet Kaggle *European Soccer Database* accessible à l'adresse https://www.kaggle.com/hugomathien/soccer.\n",
    "\n",
    "Les données en version SQLite sur la page http://www-connex.lip6.fr/~schwander/3I026/soccer.zip ou en version CSV http://www-connex.lip6.fr/~denoyer/wordpress/wp-content/uploads/2018/01/soccer.tar.gz. Pour facilter le travail dans les salles de la PPTI (et éviter de dépasser le quota de votre home), les données sont accessibles aussi dans `/Vrac/3I026/soccer/`.\n",
    "\n",
    "Quel que soit le moyen pour récupérer le fichier de données, il est indispensable de lire en détail la page Kaggle pour comprendre à quoi ces données correspondent.\n",
    "\n",
    "**Rappel:** il est attendu un notebook Python par problème, et le problème étudié doit être décrit précisément. Votre rapport devra impérativement suivre le format suivant."
   ]
  },
  {
   "cell_type": "markdown",
   "metadata": {},
   "source": [
    "## Partie 1 - Description du problème"
   ]
  },
  {
   "cell_type": "markdown",
   "metadata": {},
   "source": [
    "Le but de ce notebook est de séparé les joueurs en plein expension dans leurs carriere, et ceux qui ne le sont pas. Donc en donnant au modèle le plus ancien potentiel d'un joueur, le plus récent et son age par rapport a une date et devras prédire +1 si le joueur compte évoluer ou -1 sinon."
   ]
  },
  {
   "cell_type": "markdown",
   "metadata": {},
   "source": [
    "## Partie 2 - Modéle"
   ]
  },
  {
   "cell_type": "markdown",
   "metadata": {},
   "source": [
    "* imports"
   ]
  },
  {
   "cell_type": "code",
   "execution_count": 1,
   "metadata": {
    "collapsed": true
   },
   "outputs": [],
   "source": [
    "import random\n",
    "import numpy as np\n",
    "import pandas as pd\n",
    "import math\n",
    "import graphviz\n",
    "import datetime\n",
    "from mpl_toolkits import mplot3d\n",
    "%matplotlib inline\n",
    "import matplotlib.pyplot as plt"
   ]
  },
  {
   "cell_type": "markdown",
   "metadata": {},
   "source": [
    "* Modèle"
   ]
  },
  {
   "cell_type": "code",
   "execution_count": 2,
   "metadata": {
    "collapsed": true
   },
   "outputs": [],
   "source": [
    "class Classifier:\n",
    "    def __init__(self,input_dimension):\n",
    "        \"\"\" Constructeur \"\"\"\n",
    "        raise NotImplementedError(\"Please Implement this method\")\n",
    "    \n",
    "    \n",
    "    # Permet de calculer la prediction sur x => renvoie un score\n",
    "    def predict(self,x):\n",
    "        raise NotImplementedError(\"Please Implement this method\")\n",
    "\n",
    "    \n",
    "    # Permet d'entrainer le modele sur un ensemble de données étiquetés\n",
    "    def train(self,labeledSet):\n",
    "        raise NotImplementedError(\"Please Implement this method\")\n",
    "    \n",
    "    # Permet de calculer le taux de bonne classification\n",
    "    def accuracy(self,set):\n",
    "        nb_ok=0\n",
    "        for i in range(set.size()):\n",
    "            score = self.predict(set.getX(i))\n",
    "            if (score*set.getY(i)>0):\n",
    "                nb_ok = nb_ok+1\n",
    "        acc = nb_ok/(set.size() * 1.0)\n",
    "        return acc\n"
   ]
  },
  {
   "cell_type": "markdown",
   "metadata": {},
   "source": [
    "## Partie 3 - Code"
   ]
  },
  {
   "cell_type": "markdown",
   "metadata": {},
   "source": [
    "* Lecture des tables "
   ]
  },
  {
   "cell_type": "code",
   "execution_count": 3,
   "metadata": {
    "collapsed": true
   },
   "outputs": [],
   "source": [
    "country = pd.read_csv(\"soccer/country.csv\")\n",
    "league = pd.read_csv(\"soccer/league.csv\")\n",
    "player = pd.read_csv(\"soccer/player.csv\")\n",
    "team = pd.read_csv(\"soccer/team.csv\")\n",
    "playerattributes = pd.read_csv(\"soccer/playerattributes.csv\")\n",
    "teamattributes = pd.read_csv(\"soccer/teamattributes.csv\")\n",
    "match = pd.read_csv(\"soccer/match.csv\")"
   ]
  },
  {
   "cell_type": "markdown",
   "metadata": {},
   "source": [
    "* Fonctions utiles"
   ]
  },
  {
   "cell_type": "code",
   "execution_count": 4,
   "metadata": {
    "collapsed": true
   },
   "outputs": [],
   "source": [
    "def isNaN(x):\n",
    "    return str((x)).lower() == 'nan'"
   ]
  },
  {
   "cell_type": "code",
   "execution_count": 5,
   "metadata": {},
   "outputs": [],
   "source": [
    "def normalisation(data):    \n",
    "    for i in data.columns:\n",
    "        min1 = data[i].min()\n",
    "        data[i] = [(row-min1)/(data[i].max()-min1) for row in data[i]]        \n",
    "    return data"
   ]
  },
  {
   "cell_type": "code",
   "execution_count": 6,
   "metadata": {
    "collapsed": true
   },
   "outputs": [],
   "source": [
    "def dist_vect(v1, v2):\n",
    "    return math.sqrt((((v1)-(v2))**2).sum())"
   ]
  },
  {
   "cell_type": "code",
   "execution_count": 7,
   "metadata": {
    "collapsed": true
   },
   "outputs": [],
   "source": [
    "def centroide(examples):\n",
    "    return pd.DataFrame({'X': [(examples['X'].max()+examples['X'].min())/2], 'Y': [(examples['Y'].max()+examples['Y'].min())/2]})"
   ]
  },
  {
   "cell_type": "code",
   "execution_count": 8,
   "metadata": {
    "collapsed": true
   },
   "outputs": [],
   "source": [
    "def medoide(examples):\n",
    "    Dframe=pd.DataFrame()\n",
    "    for col in examples.columns:\n",
    "        Dframe[col]=([examples[col].mean()])\n",
    "    return Dframe   "
   ]
  },
  {
   "cell_type": "code",
   "execution_count": 9,
   "metadata": {
    "collapsed": true
   },
   "outputs": [],
   "source": [
    "def inertie_cluster(data):\n",
    "    centre=medoide(data)\n",
    "    inertie=0\n",
    "    for i in range(len(data)):\n",
    "        inertie+=dist_vect(data.iloc[i], medoide(data).iloc[0])**2\n",
    "    return inertie    "
   ]
  },
  {
   "cell_type": "code",
   "execution_count": 10,
   "metadata": {
    "collapsed": true
   },
   "outputs": [],
   "source": [
    "def initialisation(k, data):\n",
    "    index=random.sample(range(len(data)), k)\n",
    "    dt=pd.DataFrame()\n",
    "    for col in data.columns:\n",
    "        dt[col]=[]\n",
    "    for i in np.arange(0, k):\n",
    "        dt.loc[index[i]] = (data.iloc[index[i]])\n",
    "    return dt"
   ]
  },
  {
   "cell_type": "code",
   "execution_count": 11,
   "metadata": {
    "collapsed": true
   },
   "outputs": [],
   "source": [
    "def plus_proche(example, dataframe):\n",
    "    l = [dist_vect(example, dataframe.iloc[i]) for i in range(dataframe.shape[0])]              \n",
    "    return np.argsort(l)[0]"
   ]
  },
  {
   "cell_type": "code",
   "execution_count": 12,
   "metadata": {
    "collapsed": true
   },
   "outputs": [],
   "source": [
    "def affecte_cluster(app, centroides):\n",
    "    res = dict()\n",
    "    for i in range(centroides.shape[0]):\n",
    "        res[i] = list()\n",
    "    for i in range(app.shape[0]):\n",
    "        k = plus_proche(app.iloc[i], centroides)\n",
    "        res[k].append(i)\n",
    "    return res"
   ]
  },
  {
   "cell_type": "code",
   "execution_count": 13,
   "metadata": {
    "collapsed": true
   },
   "outputs": [],
   "source": [
    "def nouveaux_centroides(app, mat):\n",
    "    centres = pd.DataFrame()\n",
    "    for col in app.columns:\n",
    "        centres[col]=[]    \n",
    "    for i in range(len(mat)):\n",
    "        dt = pd.DataFrame()\n",
    "        for col in app.columns:\n",
    "            dt[col]=[]\n",
    "        for j in range(len(mat[i])):\n",
    "            dt.loc[j] = app.iloc[mat[i][j]]\n",
    "        centres.loc[i] = medoide(dt).iloc[0]\n",
    "    return centres\n",
    "   "
   ]
  },
  {
   "cell_type": "code",
   "execution_count": 14,
   "metadata": {
    "collapsed": true
   },
   "outputs": [],
   "source": [
    "def inertie_globale(dataframe,matrice):\n",
    "    s=0\n",
    "    for i in matrice:\n",
    "        df=dataframe.iloc[matrice[i],]\n",
    "        s+=inertie_cluster(df)\n",
    "    return s\n",
    "        \n",
    "    "
   ]
  },
  {
   "cell_type": "code",
   "execution_count": 15,
   "metadata": {
    "collapsed": true
   },
   "outputs": [],
   "source": [
    "def kmoyennes(k, app, epsilon, iter_max):\n",
    "    if k < 1 or epsilon <= 0 and iter_max < 1:\n",
    "        print(\"erreur sur les arguments\")\n",
    "        return None\n",
    "    centroides = initialisation(k, app)\n",
    "    it = 0\n",
    "    iner_glob_last = 0\n",
    "    mat = affecte_cluster(app, centroides)\n",
    "    iner_glob_new = inertie_globale(app, mat)\n",
    "    differance_inertie=epsilon+1\n",
    "    while (differance_inertie > epsilon) and it <= iter_max:\n",
    "        centroides = nouveaux_centroides(app, mat)\n",
    "        mat = affecte_cluster(app, centroides)        \n",
    "        iner_glob_last = iner_glob_new\n",
    "        iner_glob_new = inertie_globale(app, mat)\n",
    "        differance_inertie=abs(iner_glob_new - iner_glob_last)\n",
    "        it+=1\n",
    "    return centroides, mat"
   ]
  },
  {
   "cell_type": "code",
   "execution_count": 16,
   "metadata": {
    "collapsed": true
   },
   "outputs": [],
   "source": [
    "def plot3DSet(set):\n",
    "    fig = plt.figure()\n",
    "    ax = plt.axes(projection='3d')\n",
    "    S_pos = set.x[np.where(set.y == 1),:][0]      # tous les exemples de label +1\n",
    "    S_neg = set.x[np.where(set.y == -1),:][0]     # tous les exemples de label -1\n",
    "    ax.scatter3D(S_pos[:,0], S_pos[:,1], S_pos[:,2], c=\"green\");\n",
    "    ax.scatter3D(S_neg[:,0], S_neg[:,1], S_neg[:,2], c=\"blue\");\n",
    "\n"
   ]
  },
  {
   "cell_type": "code",
   "execution_count": 35,
   "metadata": {
    "collapsed": true
   },
   "outputs": [],
   "source": [
    "def affiche_resultat(data, centres, affects):\n",
    "    fig = plt.figure()\n",
    "    ax = plt.axes(projection='3d')\n",
    "    dt = pd.DataFrame({'new_pot': [], 'old_pot': [], 'age': []})\n",
    "    for i in range(len(affects)):\n",
    "        for j in range(len(affects[i])):\n",
    "            dt.loc[j] = data.iloc[affects[i][j]]\n",
    "        ax.scatter3D(dt['new_pot'], dt['old_pot'], dt['age'], c = np.random.rand(3))\n",
    "        dt = pd.DataFrame({'new_pot': [], 'old_pot': [], 'age': []})\n",
    "    ax.scatter3D(centres['new_pot'],centres['old_pot'],centres['age'],c='blue',marker='x')   \n"
   ]
  },
  {
   "cell_type": "code",
   "execution_count": 36,
   "metadata": {
    "collapsed": true
   },
   "outputs": [],
   "source": [
    "def affiche_resultat_2D(data, centres, affects):\n",
    "    dt = pd.DataFrame({'new_pot': [], 'old_pot': []})\n",
    "    for i in range(len(affects)):\n",
    "        for j in range(len(affects[i])):\n",
    "            dt.loc[j] = data.iloc[affects[i][j]]\n",
    "        plt.scatter(dt['new_pot'], dt['old_pot'], color = np.random.rand(3))\n",
    "        dt = pd.DataFrame({'new_pot': [], 'old_pot': []})\n",
    "    plt.scatter(centres['new_pot'],centres['old_pot'],color='r',marker='x')   \n",
    "    plt.show()"
   ]
  },
  {
   "cell_type": "code",
   "execution_count": 44,
   "metadata": {
    "collapsed": true
   },
   "outputs": [],
   "source": [
    "#predire les prochains meilleures buteurs\n",
    "def dfSetAgePotAm(date_actuel):\n",
    "    finalSet=pd.DataFrame(columns=('new_pot', 'old_pot', 'age'))\n",
    "    for i in range(len(player)):\n",
    "        idJ = player[\"player_api_id\"][i]\n",
    "        l = playerattributes[(playerattributes[\"player_api_id\"]==idJ) & (playerattributes[\"date\"]<date_actuel)][\"potential\"]\n",
    "        old_pot = l.iloc[len(l)-1]\n",
    "        new_pot = l.iloc[0]\n",
    "        amelioration = new_pot-old_pot\n",
    "        annee_naissance = int(player[\"birthday\"][i][0:4])\n",
    "        age = int(str(date_actuel)[0:4])-annee_naissance\n",
    "        finalSet.loc[i]=[new_pot, old_pot, age]\n",
    "    return finalSet"
   ]
  },
  {
   "cell_type": "markdown",
   "metadata": {},
   "source": [
    "* Variables globales"
   ]
  },
  {
   "cell_type": "code",
   "execution_count": 45,
   "metadata": {},
   "outputs": [],
   "source": [
    "date_actuel = datetime.date(2014,1,1)\n",
    "playerattributes['date']  = pd.to_datetime(playerattributes['date'])"
   ]
  },
  {
   "cell_type": "code",
   "execution_count": 46,
   "metadata": {},
   "outputs": [],
   "source": [
    "theSet = dfSetAgePotAm(date_actuel)"
   ]
  },
  {
   "cell_type": "markdown",
   "metadata": {},
   "source": [
    "## Partie 4 - Protocole expérimental"
   ]
  },
  {
   "cell_type": "code",
   "execution_count": 47,
   "metadata": {},
   "outputs": [],
   "source": [
    "centroides,matrice=kmoyennes(2,theSet,0.05,100)"
   ]
  },
  {
   "cell_type": "code",
   "execution_count": 48,
   "metadata": {},
   "outputs": [
    {
     "data": {
      "image/png": "[encoded data removed]",
      "text/plain": [
       "<matplotlib.figure.Figure at 0x7f9125623ef0>"
      ]
     },
     "metadata": {},
     "output_type": "display_data"
    }
   ],
   "source": [
    "affiche_resultat(theSet, centroides, matrice)"
   ]
  },
  {
   "cell_type": "markdown",
   "metadata": {},
   "source": [
    "## Partie 5 - Résultats"
   ]
  },
  {
   "cell_type": "markdown",
   "metadata": {},
   "source": [
    "### recuperer la fonction affiche bien ce type la"
   ]
  },
  {
   "cell_type": "code",
   "execution_count": 49,
   "metadata": {},
   "outputs": [
    {
     "data": {
      "image/png": "[encoded data removed]",
      "text/plain": [
       "<matplotlib.figure.Figure at 0x7f9124bd75f8>"
      ]
     },
     "metadata": {},
     "output_type": "display_data"
    }
   ],
   "source": [
    "affiche_resultat_2D(theSet, centroides, matrice)"
   ]
  },
  {
   "cell_type": "code",
   "execution_count": 50,
   "metadata": {},
   "outputs": [
    {
     "data": {
      "image/png": "[encoded data removed]",
      "text/plain": [
       "<matplotlib.figure.Figure at 0x7f912490ed30>"
      ]
     },
     "metadata": {},
     "output_type": "display_data"
    }
   ],
   "source": [
    "affiche_resultat_2D(theSet, centroides, matrice)"
   ]
  },
  {
   "cell_type": "markdown",
   "metadata": {},
   "source": [
    "## Partie 6 - Analyse"
   ]
  },
  {
   "cell_type": "markdown",
   "metadata": {},
   "source": [
    "On remarque bien que notre algorithme KMoyennes a séparé nos données en deux groupes, le groupe de joueurs qui ont des similarités sur leurs caractéristiques d'évolution sont supposé pour un groupe joueurs en plein évolution, et l'autre en régression dans leur carriere et n'ont donc pas de meilleur potentiel les saisons a venir. <br>\n",
    "Finalement les résultats ne sont pas concluent car le nos données ne sont pas idéales pour ce type de classifiers, en effet le clustering n'apprend pas sur nos données et donc prend en comptes les attributs donnés en tant que coordonnées mathématiques. Dans notre cas l'ancien potentiel, le nouveau et l'age n'aident pas assez à classer nos joueurs."
   ]
  }
 ],
 "metadata": {
  "kernelspec": {
   "display_name": "Python 3",
   "language": "python",
   "name": "python3"
  },
  "language_info": {
   "codemirror_mode": {
    "name": "ipython",
    "version": 3
   },
   "file_extension": ".py",
   "mimetype": "text/x-python",
   "name": "python",
   "nbconvert_exporter": "python",
   "pygments_lexer": "ipython3",
   "version": "3.7.3"
  }
 },
 "nbformat": 4,
 "nbformat_minor": 1
}
