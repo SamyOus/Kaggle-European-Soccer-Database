{
 "cells": [
  {
   "cell_type": "markdown",
   "metadata": {},
   "source": [
    "**Indiquer dans la boîte ci-dessous vos noms et prénoms**"
   ]
  },
  {
   "cell_type": "markdown",
   "metadata": {},
   "source": [
    "Double-cliquer ici et remplacer par les noms et prénoms de votre binôme"
   ]
  },
  {
   "cell_type": "markdown",
   "metadata": {},
   "source": [
    "# 3I026 - Intelligence artificielle & Data science\n",
    "\n",
    "# Projet"
   ]
  },
  {
   "cell_type": "markdown",
   "metadata": {},
   "source": [
    "## Données\n",
    "\n",
    "Vous devez travailler sur les données du projet Kaggle *European Soccer Database* accessible à l'adresse https://www.kaggle.com/hugomathien/soccer.\n",
    "\n",
    "Les données en version SQLite sur la page http://www-connex.lip6.fr/~schwander/3I026/soccer.zip ou en version CSV http://www-connex.lip6.fr/~denoyer/wordpress/wp-content/uploads/2018/01/soccer.tar.gz. Pour facilter le travail dans les salles de la PPTI (et éviter de dépasser le quota de votre home), les données sont accessibles aussi dans `/Vrac/3I026/soccer/`.\n",
    "\n",
    "Quel que soit le moyen pour récupérer le fichier de données, il est indispensable de lire en détail la page Kaggle pour comprendre à quoi ces données correspondent.\n",
    "\n",
    "**Rappel:** il est attendu un notebook Python par problème, et le problème étudié doit être décrit précisément. Votre rapport devra impérativement suivre le format suivant."
   ]
  },
  {
   "cell_type": "markdown",
   "metadata": {},
   "source": [
    "## Partie 1 - Description du problème"
   ]
  },
  {
   "cell_type": "markdown",
   "metadata": {},
   "source": [
    "La problèmatique de ce notebook se pose telle que si un joueur a un potentiel futur pour s'améliorer ou pas.<br>\n",
    "Les attributs pertinent qu'on utilise sont le potentiel actuel du joueur, le plus ancien potentiel depuis sa carriere et son age actuel, avec une étude non supervisée sur ces données, notre modèle renverras donc +1 si le joueur compte améliorer son potentiel sur les prochaines saison ou -1 dans le cas inverse."
   ]
  },
  {
   "cell_type": "markdown",
   "metadata": {},
   "source": [
    "## Partie2 - Modéle"
   ]
  },
  {
   "cell_type": "markdown",
   "metadata": {},
   "source": [
    "* imports"
   ]
  },
  {
   "cell_type": "code",
   "execution_count": 1,
   "metadata": {
    "collapsed": true
   },
   "outputs": [],
   "source": [
    "import random\n",
    "import numpy as np\n",
    "import pandas as pd\n",
    "import math\n",
    "import graphviz\n",
    "import datetime\n",
    "from mpl_toolkits import mplot3d\n",
    "%matplotlib inline\n",
    "import matplotlib.pyplot as plt"
   ]
  },
  {
   "cell_type": "markdown",
   "metadata": {},
   "source": [
    "* LabeledSet"
   ]
  },
  {
   "cell_type": "code",
   "execution_count": 2,
   "metadata": {
    "collapsed": true
   },
   "outputs": [],
   "source": [
    "class LabeledSet:  \n",
    "    \n",
    "    def __init__(self, input_dimension):\n",
    "        self.input_dimension = input_dimension\n",
    "        self.nb_examples = 0\n",
    "    \n",
    "    def addExample(self,vector,label):\n",
    "        if (self.nb_examples == 0):\n",
    "            self.x = np.array([vector])\n",
    "            self.y = np.array([label])\n",
    "        else:\n",
    "            self.x = np.vstack((self.x, vector))\n",
    "            self.y = np.vstack((self.y, label))\n",
    "        \n",
    "        self.nb_examples = self.nb_examples + 1\n",
    "    \n",
    "    #Renvoie la dimension de l'espace d'entrée\n",
    "    def getInputDimension(self):\n",
    "        return self.input_dimension\n",
    "    \n",
    "    #Renvoie le nombre d'exemples dans le set\n",
    "    def size(self):\n",
    "        return self.nb_examples\n",
    "    \n",
    "    #Renvoie la valeur de x_i\n",
    "    def getX(self, i):\n",
    "        return self.x[i]\n",
    "        \n",
    "    \n",
    "    #Renvouie la valeur de y_i\n",
    "    def getY(self, i):\n",
    "        return(self.y[i])"
   ]
  },
  {
   "cell_type": "markdown",
   "metadata": {},
   "source": [
    "* Modéle"
   ]
  },
  {
   "cell_type": "code",
   "execution_count": 3,
   "metadata": {
    "collapsed": true
   },
   "outputs": [],
   "source": [
    "class Classifier:\n",
    "    def __init__(self,input_dimension):\n",
    "        \"\"\" Constructeur \"\"\"\n",
    "        raise NotImplementedError(\"Please Implement this method\")\n",
    "    \n",
    "    \n",
    "    # Permet de calculer la prediction sur x => renvoie un score\n",
    "    def predict(self,x):\n",
    "        raise NotImplementedError(\"Please Implement this method\")\n",
    "\n",
    "    \n",
    "    # Permet d'entrainer le modele sur un ensemble de données étiquetés\n",
    "    def train(self,labeledSet):\n",
    "        raise NotImplementedError(\"Please Implement this method\")\n",
    "    \n",
    "    # Permet de calculer le taux de bonne classification\n",
    "    def accuracy(self,set):\n",
    "        nb_ok=0\n",
    "        for i in range(set.size()):\n",
    "            score = self.predict(set.getX(i))\n",
    "            if (score*set.getY(i)>0):\n",
    "                nb_ok = nb_ok+1\n",
    "        acc = nb_ok/(set.size() * 1.0)\n",
    "        return acc\n"
   ]
  },
  {
   "cell_type": "code",
   "execution_count": 4,
   "metadata": {
    "collapsed": true
   },
   "outputs": [],
   "source": [
    "#KNN\n",
    "class KNN(Classifier):\n",
    "    def __init__(self, k, input_dimension):\n",
    "        self.k = k\n",
    "        self.datas = LabeledSet(input_dimension)\n",
    "            \n",
    "    def predict(self, x):\n",
    "        dist=[]\n",
    "        for i in range(self.datas.size()):\n",
    "            dist.append(np.linalg.norm(x-self.datas.getX(i)))\n",
    "        res=0\n",
    "        ind=np.argsort(dist)\n",
    "        for i in range(self.k):\n",
    "            res+=self.datas.getY(ind[i])\n",
    "        if ((res*1.0/self.k)>=0):\n",
    "            return +1\n",
    "        return -1\n",
    "\n",
    "    def train(self, theSet):\n",
    "        self.datas=theSet"
   ]
  },
  {
   "cell_type": "markdown",
   "metadata": {},
   "source": [
    "## Partie 3 - Code"
   ]
  },
  {
   "cell_type": "markdown",
   "metadata": {},
   "source": [
    "* Lecture des tables "
   ]
  },
  {
   "cell_type": "code",
   "execution_count": 5,
   "metadata": {
    "collapsed": true
   },
   "outputs": [],
   "source": [
    "country = pd.read_csv(\"soccer/country.csv\")\n",
    "league = pd.read_csv(\"soccer/league.csv\")\n",
    "player = pd.read_csv(\"soccer/player.csv\")\n",
    "team = pd.read_csv(\"soccer/team.csv\")\n",
    "playerattributes = pd.read_csv(\"soccer/playerattributes.csv\")\n",
    "teamattributes = pd.read_csv(\"soccer/teamattributes.csv\")\n",
    "match = pd.read_csv(\"soccer/match.csv\")"
   ]
  },
  {
   "cell_type": "markdown",
   "metadata": {},
   "source": [
    "* Fonctions utiles"
   ]
  },
  {
   "cell_type": "code",
   "execution_count": 30,
   "metadata": {
    "collapsed": true
   },
   "outputs": [],
   "source": [
    "def labSetAgePotAm(date_actuel):\n",
    "    finalSet = LabeledSet(3)\n",
    "    \n",
    "    for i in range(len(player)):\n",
    "        idJ = player[\"player_api_id\"][i]\n",
    "        l = playerattributes[(playerattributes[\"player_api_id\"]==idJ) & (playerattributes[\"date\"]<date_actuel)][\"potential\"]\n",
    "        old_pot = l.iloc[len(l)-1]\n",
    "        new_pot = l.iloc[0]\n",
    "        amelioration = new_pot-old_pot\n",
    "        annee_naissance = int(player[\"birthday\"][i][0:4])\n",
    "        age = int(str(date_actuel)[0:4])-annee_naissance\n",
    "        date_prediction = date_actuel + datetime.timedelta(1000)\n",
    "        to_predict_pot = playerattributes[(playerattributes[\"player_api_id\"]==idJ) & (playerattributes[\"date\"]<date_prediction)][\"potential\"].iloc[0]\n",
    "        y = 0\n",
    "        if to_predict_pot-new_pot >= 0:\n",
    "            y = +1\n",
    "        else:\n",
    "            y = -1\n",
    "        finalSet.addExample((new_pot, old_pot, age), y)\n",
    "    return finalSet"
   ]
  },
  {
   "cell_type": "code",
   "execution_count": 31,
   "metadata": {
    "collapsed": true
   },
   "outputs": [],
   "source": [
    "def plot3DSet(set):\n",
    "    fig = plt.figure()\n",
    "    ax = plt.axes(projection='3d')\n",
    "    S_pos = set.x[np.where(set.y == 1),:][0]      # tous les exemples de label +1\n",
    "    S_neg = set.x[np.where(set.y == -1),:][0]     # tous les exemples de label -1\n",
    "    ax.set_xlabel('new potential')\n",
    "    ax.set_ylabel('old potential')\n",
    "    ax.set_zlabel('age ')\n",
    "    ax.scatter3D(S_pos[:,0], S_pos[:,1], S_pos[:,2], c=\"green\");\n",
    "    ax.scatter3D(S_neg[:,0], S_neg[:,1], S_neg[:,2], c=\"blue\");"
   ]
  },
  {
   "cell_type": "markdown",
   "metadata": {},
   "source": [
    "* variables glabeles"
   ]
  },
  {
   "cell_type": "code",
   "execution_count": 32,
   "metadata": {
    "collapsed": true
   },
   "outputs": [],
   "source": [
    "playerattributes['date']  = pd.to_datetime(playerattributes['date'])\n",
    "\n",
    "\n",
    "date_actuel = datetime.date(2014,1,1) \n",
    "\n",
    "k = 81\n",
    "input_dimension = 3"
   ]
  },
  {
   "cell_type": "markdown",
   "metadata": {},
   "source": [
    "## Partie 4 - Protocole expérimental"
   ]
  },
  {
   "cell_type": "markdown",
   "metadata": {},
   "source": [
    "* preparation des données"
   ]
  },
  {
   "cell_type": "code",
   "execution_count": 33,
   "metadata": {},
   "outputs": [],
   "source": [
    "theSet = labSetAgePotAm(date_actuel)\n",
    "app = LabeledSet(input_dimension)\n",
    "teste = LabeledSet(input_dimension)\n",
    "for i in range(theSet.size()):\n",
    "    if random.randint(0,4) == 0:\n",
    "        app.addExample(theSet.getX(i), theSet.getY(i))\n",
    "    else:\n",
    "        teste.addExample(theSet.getX(i), theSet.getY(i))"
   ]
  },
  {
   "cell_type": "code",
   "execution_count": 34,
   "metadata": {},
   "outputs": [],
   "source": [
    "knn = KNN(k, input_dimension)\n",
    "knn.train(app)"
   ]
  },
  {
   "cell_type": "markdown",
   "metadata": {},
   "source": [
    "## Partie 5 - Résultats"
   ]
  },
  {
   "cell_type": "code",
   "execution_count": 35,
   "metadata": {},
   "outputs": [
    {
     "name": "stdout",
     "output_type": "stream",
     "text": [
      "accuracy KNN :  0.7001359927470535\n"
     ]
    }
   ],
   "source": [
    "print(\"accuracy KNN : \",knn.accuracy(teste))"
   ]
  },
  {
   "cell_type": "code",
   "execution_count": 36,
   "metadata": {},
   "outputs": [
    {
     "data": {
      "image/png": "[encoded data removed]",
      "text/plain": [
       "<matplotlib.figure.Figure at 0x7f43ed2b5e10>"
      ]
     },
     "metadata": {},
     "output_type": "display_data"
    }
   ],
   "source": [
    "plot3DSet(teste)"
   ]
  },
  {
   "cell_type": "markdown",
   "metadata": {},
   "source": [
    "## Partie 6 - Analyse"
   ]
  },
  {
   "cell_type": "markdown",
   "metadata": {},
   "source": [
    "Meilleure score est de 70.5% de réussite.\n"
   ]
  }
 ],
 "metadata": {
  "kernelspec": {
   "display_name": "Python 3",
   "language": "python",
   "name": "python3"
  },
  "language_info": {
   "codemirror_mode": {
    "name": "ipython",
    "version": 3
   },
   "file_extension": ".py",
   "mimetype": "text/x-python",
   "name": "python",
   "nbconvert_exporter": "python",
   "pygments_lexer": "ipython3",
   "version": "3.7.3"
  }
 },
 "nbformat": 4,
 "nbformat_minor": 1
}
